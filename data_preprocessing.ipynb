{
 "cells": [
  {
   "cell_type": "code",
   "execution_count": 1,
   "metadata": {},
   "outputs": [],
   "source": [
    "import warnings\n",
    "warnings.filterwarnings('ignore')\n",
    "import pandas as pd\n",
    "import numpy as np\n",
    "from ast import literal_eval\n",
    "from langdetect import detect\n",
    "from collections import Counter\n",
    "import matplotlib.pyplot as plt\n",
    "import seaborn as sns\n",
    "from sklearn.externals import joblib"
   ]
  },
  {
   "cell_type": "code",
   "execution_count": 2,
   "metadata": {},
   "outputs": [],
   "source": [
    "resumes = pd.read_csv('resumes_all_2_3.csv')"
   ]
  },
  {
   "cell_type": "code",
   "execution_count": 3,
   "metadata": {},
   "outputs": [],
   "source": [
    "columns = ['job_titles', 'job_durations', 'job_descriptions', 'degrees', 'schools', 'graduation_dates']\n",
    "for col in columns:\n",
    "    resumes[col] = resumes[col].apply(lambda x: literal_eval(x)) # pandas read columns as string, change back to list"
   ]
  },
  {
   "cell_type": "code",
   "execution_count": 4,
   "metadata": {},
   "outputs": [
    {
     "data": {
      "text/html": [
       "<div>\n",
       "<style scoped>\n",
       "    .dataframe tbody tr th:only-of-type {\n",
       "        vertical-align: middle;\n",
       "    }\n",
       "\n",
       "    .dataframe tbody tr th {\n",
       "        vertical-align: top;\n",
       "    }\n",
       "\n",
       "    .dataframe thead th {\n",
       "        text-align: right;\n",
       "    }\n",
       "</style>\n",
       "<table border=\"1\" class=\"dataframe\">\n",
       "  <thead>\n",
       "    <tr style=\"text-align: right;\">\n",
       "      <th></th>\n",
       "      <th>job_titles</th>\n",
       "      <th>job_durations</th>\n",
       "      <th>job_descriptions</th>\n",
       "      <th>degrees</th>\n",
       "      <th>schools</th>\n",
       "      <th>graduation_dates</th>\n",
       "      <th>job_type</th>\n",
       "    </tr>\n",
       "  </thead>\n",
       "  <tbody>\n",
       "    <tr>\n",
       "      <th>0</th>\n",
       "      <td>[Data Scientist, Business Inteligence Consultant]</td>\n",
       "      <td>[February 2013 to Present, January 2006 to Feb...</td>\n",
       "      <td>[2016 ~ Manager, Smart Solution Team in Inform...</td>\n",
       "      <td>[Master in Business Administration, Bachelor o...</td>\n",
       "      <td>[KAIST, Konkuk University]</td>\n",
       "      <td>[January 2012 to January 2013, March 1999 to F...</td>\n",
       "      <td>data+scientist</td>\n",
       "    </tr>\n",
       "    <tr>\n",
       "      <th>1</th>\n",
       "      <td>[Director of Business Relations, Senior Data A...</td>\n",
       "      <td>[May 2018 to Present, May 2014 to July 2016]</td>\n",
       "      <td>[GIMME360  Data Scientist-Business Solution  2...</td>\n",
       "      <td>[Master in applied mathematics, Bachelor in ap...</td>\n",
       "      <td>[University of Waterloo, University of Waterloo]</td>\n",
       "      <td>[January 2016 to January 2018, January 2010 to...</td>\n",
       "      <td>data+scientist</td>\n",
       "    </tr>\n",
       "    <tr>\n",
       "      <th>2</th>\n",
       "      <td>[FREELANCE DEVELOPER, Data Scientist, DESIGN E...</td>\n",
       "      <td>[March 2016 to Present, April 2018 to August 2...</td>\n",
       "      <td>[Toronto, Canada• Completed 30+ freelancer Pro...</td>\n",
       "      <td>[BACHELORS in COMPUTER ENGINEERING]</td>\n",
       "      <td>[UNIVERSITY OF TORONTO]</td>\n",
       "      <td>[April 2021]</td>\n",
       "      <td>data+scientist</td>\n",
       "    </tr>\n",
       "    <tr>\n",
       "      <th>3</th>\n",
       "      <td>[Automation Test Engineer, Data Scientist, Dat...</td>\n",
       "      <td>[December 2018 to Present, August 2018 to Nove...</td>\n",
       "      <td>[Responsibilities: ⚫    GM Infotainment system...</td>\n",
       "      <td>[Master in Electrical and Computer Engineering...</td>\n",
       "      <td>[University of Ottawa, Beijing Institute of Te...</td>\n",
       "      <td>[September 2015 to June 2017, September 2009 t...</td>\n",
       "      <td>data+scientist</td>\n",
       "    </tr>\n",
       "    <tr>\n",
       "      <th>4</th>\n",
       "      <td>[Validation Scientist Co-Op (PEY), Data Collec...</td>\n",
       "      <td>[September 2017 to August 2018, May 2015 to Se...</td>\n",
       "      <td>[• Developing qualification document for a new...</td>\n",
       "      <td>[B.A.Sc in Electrical Engineering]</td>\n",
       "      <td>[University of Toronto]</td>\n",
       "      <td>[September 2014 to April 2019]</td>\n",
       "      <td>data+scientist</td>\n",
       "    </tr>\n",
       "  </tbody>\n",
       "</table>\n",
       "</div>"
      ],
      "text/plain": [
       "                                          job_titles  \\\n",
       "0  [Data Scientist, Business Inteligence Consultant]   \n",
       "1  [Director of Business Relations, Senior Data A...   \n",
       "2  [FREELANCE DEVELOPER, Data Scientist, DESIGN E...   \n",
       "3  [Automation Test Engineer, Data Scientist, Dat...   \n",
       "4  [Validation Scientist Co-Op (PEY), Data Collec...   \n",
       "\n",
       "                                       job_durations  \\\n",
       "0  [February 2013 to Present, January 2006 to Feb...   \n",
       "1       [May 2018 to Present, May 2014 to July 2016]   \n",
       "2  [March 2016 to Present, April 2018 to August 2...   \n",
       "3  [December 2018 to Present, August 2018 to Nove...   \n",
       "4  [September 2017 to August 2018, May 2015 to Se...   \n",
       "\n",
       "                                    job_descriptions  \\\n",
       "0  [2016 ~ Manager, Smart Solution Team in Inform...   \n",
       "1  [GIMME360  Data Scientist-Business Solution  2...   \n",
       "2  [Toronto, Canada• Completed 30+ freelancer Pro...   \n",
       "3  [Responsibilities: ⚫    GM Infotainment system...   \n",
       "4  [• Developing qualification document for a new...   \n",
       "\n",
       "                                             degrees  \\\n",
       "0  [Master in Business Administration, Bachelor o...   \n",
       "1  [Master in applied mathematics, Bachelor in ap...   \n",
       "2                [BACHELORS in COMPUTER ENGINEERING]   \n",
       "3  [Master in Electrical and Computer Engineering...   \n",
       "4                 [B.A.Sc in Electrical Engineering]   \n",
       "\n",
       "                                             schools  \\\n",
       "0                         [KAIST, Konkuk University]   \n",
       "1   [University of Waterloo, University of Waterloo]   \n",
       "2                            [UNIVERSITY OF TORONTO]   \n",
       "3  [University of Ottawa, Beijing Institute of Te...   \n",
       "4                            [University of Toronto]   \n",
       "\n",
       "                                    graduation_dates        job_type  \n",
       "0  [January 2012 to January 2013, March 1999 to F...  data+scientist  \n",
       "1  [January 2016 to January 2018, January 2010 to...  data+scientist  \n",
       "2                                       [April 2021]  data+scientist  \n",
       "3  [September 2015 to June 2017, September 2009 t...  data+scientist  \n",
       "4                     [September 2014 to April 2019]  data+scientist  "
      ]
     },
     "execution_count": 4,
     "metadata": {},
     "output_type": "execute_result"
    }
   ],
   "source": [
    "resumes.head()"
   ]
  },
  {
   "cell_type": "code",
   "execution_count": 5,
   "metadata": {},
   "outputs": [],
   "source": [
    "resumes['resume_id'] = [i+1 for i in range(len(resumes))]\n",
    "# have separate dfs for each column for easier data manipulation\n",
    "titles = resumes[['resume_id', 'job_type', 'job_titles']]\n",
    "durations = resumes[['resume_id', 'job_durations']]\n",
    "descriptions = resumes[['resume_id', 'job_descriptions']]\n",
    "degrees = resumes[['resume_id', 'job_type', 'degrees']]\n",
    "schools = resumes[['resume_id', 'schools']]\n",
    "graduation = resumes[['resume_id', 'graduation_dates']]"
   ]
  },
  {
   "cell_type": "markdown",
   "metadata": {},
   "source": [
    "Make a dataframe for work experience"
   ]
  },
  {
   "cell_type": "code",
   "execution_count": 6,
   "metadata": {},
   "outputs": [],
   "source": [
    "# split list into rows for job titles\n",
    "titles = titles['job_titles'].apply(pd.Series) \\\n",
    "         .merge(titles, right_index=True, left_index=True) \\\n",
    "         .drop(['job_titles'], axis=1) \\\n",
    "         .melt(id_vars=['resume_id', 'job_type'], value_name=\"job_title\")"
   ]
  },
  {
   "cell_type": "code",
   "execution_count": 7,
   "metadata": {},
   "outputs": [],
   "source": [
    "# split list into rows for job durations\n",
    "durations = durations['job_durations'].apply(pd.Series) \\\n",
    "         .merge(durations, right_index=True, left_index=True) \\\n",
    "         .drop(['job_durations'], axis=1) \\\n",
    "         .melt(id_vars=['resume_id'], value_name=\"job_duration\")"
   ]
  },
  {
   "cell_type": "code",
   "execution_count": 8,
   "metadata": {},
   "outputs": [],
   "source": [
    "# split list into rows for job descriptions\n",
    "descriptions = descriptions['job_descriptions'].apply(pd.Series) \\\n",
    "         .merge(descriptions, right_index=True, left_index=True) \\\n",
    "         .drop(['job_descriptions'], axis=1) \\\n",
    "         .melt(id_vars=['resume_id'], value_name=\"job_description\")"
   ]
  },
  {
   "cell_type": "code",
   "execution_count": 9,
   "metadata": {},
   "outputs": [],
   "source": [
    "# merge all work exp variables\n",
    "df_work = titles.merge(durations, on=['resume_id', 'variable']) \\\n",
    "           .merge(descriptions, on=['resume_id', 'variable']) \\\n",
    "           .dropna()\n",
    "df_work.rename(columns={'variable':'job_id'}, inplace=True) # job_id: current job is 0 prev ones 1, 2...\n",
    "df_work.sort_values(by=['resume_id', 'job_id'], inplace=True)\n",
    "df_work = df_work.reset_index(drop=True)"
   ]
  },
  {
   "cell_type": "code",
   "execution_count": 10,
   "metadata": {},
   "outputs": [],
   "source": [
    "# remove non english resumes\n",
    "langdet = []\n",
    "# lang detect sometimes cannot detect language for some text (e.g., empty string, too few characters)\n",
    "for i in range(len(df_work)):                                         \n",
    "    try:\n",
    "        lang = detect(df_work.job_description[i])                                      \n",
    "    except:                                                       \n",
    "        lang = 'no'                                                  \n",
    "    langdet.append(lang)\n",
    "\n",
    "df_work['lang'] = langdet\n",
    "df_work = df_work[df_work.lang == 'en']"
   ]
  },
  {
   "cell_type": "code",
   "execution_count": 11,
   "metadata": {},
   "outputs": [
    {
     "data": {
      "text/html": [
       "<div>\n",
       "<style scoped>\n",
       "    .dataframe tbody tr th:only-of-type {\n",
       "        vertical-align: middle;\n",
       "    }\n",
       "\n",
       "    .dataframe tbody tr th {\n",
       "        vertical-align: top;\n",
       "    }\n",
       "\n",
       "    .dataframe thead th {\n",
       "        text-align: right;\n",
       "    }\n",
       "</style>\n",
       "<table border=\"1\" class=\"dataframe\">\n",
       "  <thead>\n",
       "    <tr style=\"text-align: right;\">\n",
       "      <th></th>\n",
       "      <th>resume_id</th>\n",
       "      <th>job_type</th>\n",
       "      <th>job_id</th>\n",
       "      <th>job_title</th>\n",
       "      <th>job_duration</th>\n",
       "      <th>job_description</th>\n",
       "      <th>lang</th>\n",
       "    </tr>\n",
       "  </thead>\n",
       "  <tbody>\n",
       "    <tr>\n",
       "      <th>0</th>\n",
       "      <td>1</td>\n",
       "      <td>data+scientist</td>\n",
       "      <td>0</td>\n",
       "      <td>Data Scientist</td>\n",
       "      <td>February 2013 to Present</td>\n",
       "      <td>2016 ~ Manager, Smart Solution Team in Informa...</td>\n",
       "      <td>en</td>\n",
       "    </tr>\n",
       "    <tr>\n",
       "      <th>1</th>\n",
       "      <td>1</td>\n",
       "      <td>data+scientist</td>\n",
       "      <td>1</td>\n",
       "      <td>Business Inteligence Consultant</td>\n",
       "      <td>January 2006 to February 2013</td>\n",
       "      <td>2011 Social Media Analysis- Participate in the...</td>\n",
       "      <td>en</td>\n",
       "    </tr>\n",
       "    <tr>\n",
       "      <th>2</th>\n",
       "      <td>2</td>\n",
       "      <td>data+scientist</td>\n",
       "      <td>0</td>\n",
       "      <td>Director of Business Relations</td>\n",
       "      <td>May 2018 to Present</td>\n",
       "      <td>GIMME360  Data Scientist-Business Solution  20...</td>\n",
       "      <td>en</td>\n",
       "    </tr>\n",
       "    <tr>\n",
       "      <th>3</th>\n",
       "      <td>2</td>\n",
       "      <td>data+scientist</td>\n",
       "      <td>1</td>\n",
       "      <td>Senior Data Analyst-Customer Interaction Decis...</td>\n",
       "      <td>May 2014 to July 2016</td>\n",
       "      <td>SAS  Fulltime• Translated business objectives ...</td>\n",
       "      <td>en</td>\n",
       "    </tr>\n",
       "    <tr>\n",
       "      <th>4</th>\n",
       "      <td>3</td>\n",
       "      <td>data+scientist</td>\n",
       "      <td>0</td>\n",
       "      <td>FREELANCE DEVELOPER</td>\n",
       "      <td>March 2016 to Present</td>\n",
       "      <td>Toronto, Canada• Completed 30+ freelancer Proj...</td>\n",
       "      <td>en</td>\n",
       "    </tr>\n",
       "  </tbody>\n",
       "</table>\n",
       "</div>"
      ],
      "text/plain": [
       "   resume_id        job_type job_id  \\\n",
       "0          1  data+scientist      0   \n",
       "1          1  data+scientist      1   \n",
       "2          2  data+scientist      0   \n",
       "3          2  data+scientist      1   \n",
       "4          3  data+scientist      0   \n",
       "\n",
       "                                           job_title  \\\n",
       "0                                     Data Scientist   \n",
       "1                    Business Inteligence Consultant   \n",
       "2                     Director of Business Relations   \n",
       "3  Senior Data Analyst-Customer Interaction Decis...   \n",
       "4                                FREELANCE DEVELOPER   \n",
       "\n",
       "                    job_duration  \\\n",
       "0       February 2013 to Present   \n",
       "1  January 2006 to February 2013   \n",
       "2            May 2018 to Present   \n",
       "3          May 2014 to July 2016   \n",
       "4          March 2016 to Present   \n",
       "\n",
       "                                     job_description lang  \n",
       "0  2016 ~ Manager, Smart Solution Team in Informa...   en  \n",
       "1  2011 Social Media Analysis- Participate in the...   en  \n",
       "2  GIMME360  Data Scientist-Business Solution  20...   en  \n",
       "3  SAS  Fulltime• Translated business objectives ...   en  \n",
       "4  Toronto, Canada• Completed 30+ freelancer Proj...   en  "
      ]
     },
     "execution_count": 11,
     "metadata": {},
     "output_type": "execute_result"
    }
   ],
   "source": [
    "df_work.reset_index(drop=True, inplace=True)\n",
    "df_work.head()"
   ]
  },
  {
   "cell_type": "code",
   "execution_count": 12,
   "metadata": {},
   "outputs": [
    {
     "data": {
      "text/plain": [
       "16377"
      ]
     },
     "execution_count": 12,
     "metadata": {},
     "output_type": "execute_result"
    }
   ],
   "source": [
    "len(df_work)"
   ]
  },
  {
   "cell_type": "code",
   "execution_count": 13,
   "metadata": {},
   "outputs": [],
   "source": [
    "# remove duplicates\n",
    "df_work.drop_duplicates(['job_description'], keep='first', inplace=True)\n",
    "df_work.reset_index(drop=True, inplace=True)"
   ]
  },
  {
   "cell_type": "code",
   "execution_count": 14,
   "metadata": {},
   "outputs": [
    {
     "data": {
      "text/plain": [
       "14494"
      ]
     },
     "execution_count": 14,
     "metadata": {},
     "output_type": "execute_result"
    }
   ],
   "source": [
    "len(df_work)"
   ]
  },
  {
   "cell_type": "code",
   "execution_count": 15,
   "metadata": {},
   "outputs": [],
   "source": [
    "# save work df\n",
    "df_work.to_csv('work_exp.csv', index=False)"
   ]
  },
  {
   "cell_type": "markdown",
   "metadata": {},
   "source": [
    "make a dataframe for education"
   ]
  },
  {
   "cell_type": "code",
   "execution_count": 16,
   "metadata": {},
   "outputs": [],
   "source": [
    "# split list into rows for degrees\n",
    "degrees = degrees['degrees'].apply(pd.Series) \\\n",
    "         .merge(degrees, right_index=True, left_index=True) \\\n",
    "         .drop(['degrees'], axis=1) \\\n",
    "         .melt(id_vars=['resume_id', 'job_type'], value_name=\"degree\")"
   ]
  },
  {
   "cell_type": "code",
   "execution_count": 17,
   "metadata": {},
   "outputs": [],
   "source": [
    "# split list into rows for schools\n",
    "schools = schools['schools'].apply(pd.Series) \\\n",
    "         .merge(schools, right_index=True, left_index=True) \\\n",
    "         .drop(['schools'], axis=1) \\\n",
    "         .melt(id_vars=['resume_id'], value_name=\"school\")"
   ]
  },
  {
   "cell_type": "code",
   "execution_count": 18,
   "metadata": {},
   "outputs": [],
   "source": [
    "# split list into rows for graduation dats\n",
    "graduation = graduation['graduation_dates'].apply(pd.Series) \\\n",
    "             .merge(graduation, right_index=True, left_index=True) \\\n",
    "             .drop(['graduation_dates'], axis=1) \\\n",
    "             .melt(id_vars=['resume_id'], value_name=\"graduation\")"
   ]
  },
  {
   "cell_type": "code",
   "execution_count": 19,
   "metadata": {},
   "outputs": [],
   "source": [
    "# merge all education related variables\n",
    "df_ed = degrees.merge(schools, on=['resume_id', 'variable']) \\\n",
    "               .merge(graduation, on=['resume_id', 'variable']) \\\n",
    "               .dropna()\n",
    "df_ed.rename(columns={'variable':'education_id'}, inplace=True) # education_id: most recent ed is 0 prev ones 1, 2...\n",
    "df_ed.sort_values(by=['resume_id'], inplace=True)\n",
    "df_ed = df_ed.reset_index(drop=True)\n",
    "df_ed = df_ed.drop(['job_type'], axis=1)"
   ]
  },
  {
   "cell_type": "code",
   "execution_count": 20,
   "metadata": {},
   "outputs": [
    {
     "data": {
      "text/html": [
       "<div>\n",
       "<style scoped>\n",
       "    .dataframe tbody tr th:only-of-type {\n",
       "        vertical-align: middle;\n",
       "    }\n",
       "\n",
       "    .dataframe tbody tr th {\n",
       "        vertical-align: top;\n",
       "    }\n",
       "\n",
       "    .dataframe thead th {\n",
       "        text-align: right;\n",
       "    }\n",
       "</style>\n",
       "<table border=\"1\" class=\"dataframe\">\n",
       "  <thead>\n",
       "    <tr style=\"text-align: right;\">\n",
       "      <th></th>\n",
       "      <th>resume_id</th>\n",
       "      <th>education_id</th>\n",
       "      <th>degree</th>\n",
       "      <th>school</th>\n",
       "      <th>graduation</th>\n",
       "    </tr>\n",
       "  </thead>\n",
       "  <tbody>\n",
       "    <tr>\n",
       "      <th>0</th>\n",
       "      <td>1</td>\n",
       "      <td>0</td>\n",
       "      <td>Master in Business Administration</td>\n",
       "      <td>KAIST</td>\n",
       "      <td>January 2012 to January 2013</td>\n",
       "    </tr>\n",
       "    <tr>\n",
       "      <th>1</th>\n",
       "      <td>1</td>\n",
       "      <td>1</td>\n",
       "      <td>Bachelor of Engineering in Computer Engineering</td>\n",
       "      <td>Konkuk University</td>\n",
       "      <td>March 1999 to February 2004</td>\n",
       "    </tr>\n",
       "    <tr>\n",
       "      <th>2</th>\n",
       "      <td>2</td>\n",
       "      <td>0</td>\n",
       "      <td>Master in applied mathematics</td>\n",
       "      <td>University of Waterloo</td>\n",
       "      <td>January 2016 to January 2018</td>\n",
       "    </tr>\n",
       "    <tr>\n",
       "      <th>3</th>\n",
       "      <td>2</td>\n",
       "      <td>1</td>\n",
       "      <td>Bachelor in applied mathematics</td>\n",
       "      <td>University of Waterloo</td>\n",
       "      <td>January 2010 to January 2014</td>\n",
       "    </tr>\n",
       "    <tr>\n",
       "      <th>4</th>\n",
       "      <td>3</td>\n",
       "      <td>0</td>\n",
       "      <td>BACHELORS in COMPUTER ENGINEERING</td>\n",
       "      <td>UNIVERSITY OF TORONTO</td>\n",
       "      <td>April 2021</td>\n",
       "    </tr>\n",
       "  </tbody>\n",
       "</table>\n",
       "</div>"
      ],
      "text/plain": [
       "   resume_id education_id                                           degree  \\\n",
       "0          1            0                Master in Business Administration   \n",
       "1          1            1  Bachelor of Engineering in Computer Engineering   \n",
       "2          2            0                    Master in applied mathematics   \n",
       "3          2            1                  Bachelor in applied mathematics   \n",
       "4          3            0                BACHELORS in COMPUTER ENGINEERING   \n",
       "\n",
       "                   school                    graduation  \n",
       "0                   KAIST  January 2012 to January 2013  \n",
       "1       Konkuk University   March 1999 to February 2004  \n",
       "2  University of Waterloo  January 2016 to January 2018  \n",
       "3  University of Waterloo  January 2010 to January 2014  \n",
       "4   UNIVERSITY OF TORONTO                    April 2021  "
      ]
     },
     "execution_count": 20,
     "metadata": {},
     "output_type": "execute_result"
    }
   ],
   "source": [
    "df_ed.head()"
   ]
  },
  {
   "cell_type": "code",
   "execution_count": 21,
   "metadata": {},
   "outputs": [],
   "source": [
    "df_ed.to_csv('ed.csv', index=False)"
   ]
  },
  {
   "cell_type": "markdown",
   "metadata": {},
   "source": [
    "merge work and ed dataframes"
   ]
  },
  {
   "cell_type": "code",
   "execution_count": 22,
   "metadata": {},
   "outputs": [],
   "source": [
    "# join work exp and ed dataframes\n",
    "resumes = df_work.join(df_ed.set_index('resume_id'), on='resume_id')\n",
    "resumes.sort_values(by=['resume_id', 'job_id', 'education_id'], inplace=True)"
   ]
  },
  {
   "cell_type": "code",
   "execution_count": 23,
   "metadata": {},
   "outputs": [],
   "source": [
    "for col in ['job_title', 'job_duration', 'job_description', 'degree', 'school', 'graduation']:\n",
    "    resumes[col] = resumes[col].astype(str)"
   ]
  },
  {
   "cell_type": "code",
   "execution_count": 24,
   "metadata": {},
   "outputs": [],
   "source": [
    "# split durations to start and end dates\n",
    "resumes['job_duration'] = resumes.job_duration.apply(lambda x: x+' to ' if 'to' not in x else x)\n",
    "resumes['job_start'] = resumes.job_duration.apply(lambda x: x.split(' to ')[0])\n",
    "resumes['job_end'] = resumes.job_duration.apply(lambda x: x.split(' to ')[1])\n",
    "\n",
    "resumes['graduation'] = resumes.graduation.apply(lambda x: ' to '+x if 'to' not in x else x)\n",
    "resumes['school_start'] = resumes.graduation.apply(lambda x: x.split(' to ')[0])\n",
    "resumes['school_end'] = resumes.graduation.apply(lambda x: x.split(' to ')[1] if len(x.split(' to '))>1 else '')"
   ]
  },
  {
   "cell_type": "code",
   "execution_count": 25,
   "metadata": {},
   "outputs": [],
   "source": [
    "# change columns with dates to datetime object\n",
    "columns = ['job_start', 'job_end', 'school_start', 'school_end']\n",
    "for col in columns:\n",
    "    resumes[col] = resumes[col].apply(lambda x: x.replace('Present', 'January 2019'))\n",
    "    resumes[col] = pd.to_datetime(resumes[col])\n",
    "\n",
    "# duration of each work experience (in months)\n",
    "resumes['duration'] = round((resumes.job_end - resumes.job_start).dt.days/30)"
   ]
  },
  {
   "cell_type": "code",
   "execution_count": 26,
   "metadata": {},
   "outputs": [],
   "source": [
    "# find highest education at start of each work exp\n",
    "index_keep = resumes.job_start >= resumes.school_end # check if a degree is finished when a job starts\n",
    "resumes = resumes.loc[index_keep].groupby(['resume_id', 'job_id']).apply(lambda x: x.iloc[0, :])\n",
    "resumes.reset_index(drop=True, inplace=True) # remove multilevel index\n",
    "\n",
    "# have columns for highest education and field of study\n",
    "resumes['highest_ed'] = resumes.degree.apply(lambda x: x.split(' in ')[0])\n",
    "resumes['field'] = resumes.degree.apply(lambda x: x.split(' in ')[1] if len(x.split(' in '))>1 else '')"
   ]
  },
  {
   "cell_type": "code",
   "execution_count": 27,
   "metadata": {},
   "outputs": [
    {
     "data": {
      "text/html": [
       "<div>\n",
       "<style scoped>\n",
       "    .dataframe tbody tr th:only-of-type {\n",
       "        vertical-align: middle;\n",
       "    }\n",
       "\n",
       "    .dataframe tbody tr th {\n",
       "        vertical-align: top;\n",
       "    }\n",
       "\n",
       "    .dataframe thead th {\n",
       "        text-align: right;\n",
       "    }\n",
       "</style>\n",
       "<table border=\"1\" class=\"dataframe\">\n",
       "  <thead>\n",
       "    <tr style=\"text-align: right;\">\n",
       "      <th></th>\n",
       "      <th>resume_id</th>\n",
       "      <th>job_type</th>\n",
       "      <th>job_id</th>\n",
       "      <th>job_title</th>\n",
       "      <th>job_duration</th>\n",
       "      <th>job_description</th>\n",
       "      <th>lang</th>\n",
       "      <th>education_id</th>\n",
       "      <th>degree</th>\n",
       "      <th>school</th>\n",
       "      <th>graduation</th>\n",
       "      <th>job_start</th>\n",
       "      <th>job_end</th>\n",
       "      <th>school_start</th>\n",
       "      <th>school_end</th>\n",
       "      <th>duration</th>\n",
       "      <th>highest_ed</th>\n",
       "      <th>field</th>\n",
       "    </tr>\n",
       "  </thead>\n",
       "  <tbody>\n",
       "    <tr>\n",
       "      <th>0</th>\n",
       "      <td>1</td>\n",
       "      <td>data+scientist</td>\n",
       "      <td>0</td>\n",
       "      <td>Data Scientist</td>\n",
       "      <td>February 2013 to Present</td>\n",
       "      <td>2016 ~ Manager, Smart Solution Team in Informa...</td>\n",
       "      <td>en</td>\n",
       "      <td>0</td>\n",
       "      <td>Master in Business Administration</td>\n",
       "      <td>KAIST</td>\n",
       "      <td>January 2012 to January 2013</td>\n",
       "      <td>2013-02-01</td>\n",
       "      <td>2019-01-01</td>\n",
       "      <td>2012-01-01</td>\n",
       "      <td>2013-01-01</td>\n",
       "      <td>72.0</td>\n",
       "      <td>Master</td>\n",
       "      <td>Business Administration</td>\n",
       "    </tr>\n",
       "    <tr>\n",
       "      <th>1</th>\n",
       "      <td>1</td>\n",
       "      <td>data+scientist</td>\n",
       "      <td>1</td>\n",
       "      <td>Business Inteligence Consultant</td>\n",
       "      <td>January 2006 to February 2013</td>\n",
       "      <td>2011 Social Media Analysis- Participate in the...</td>\n",
       "      <td>en</td>\n",
       "      <td>1</td>\n",
       "      <td>Bachelor of Engineering in Computer Engineering</td>\n",
       "      <td>Konkuk University</td>\n",
       "      <td>March 1999 to February 2004</td>\n",
       "      <td>2006-01-01</td>\n",
       "      <td>2013-02-01</td>\n",
       "      <td>1999-03-01</td>\n",
       "      <td>2004-02-01</td>\n",
       "      <td>86.0</td>\n",
       "      <td>Bachelor of Engineering</td>\n",
       "      <td>Computer Engineering</td>\n",
       "    </tr>\n",
       "    <tr>\n",
       "      <th>2</th>\n",
       "      <td>2</td>\n",
       "      <td>data+scientist</td>\n",
       "      <td>0</td>\n",
       "      <td>Director of Business Relations</td>\n",
       "      <td>May 2018 to Present</td>\n",
       "      <td>GIMME360  Data Scientist-Business Solution  20...</td>\n",
       "      <td>en</td>\n",
       "      <td>0</td>\n",
       "      <td>Master in applied mathematics</td>\n",
       "      <td>University of Waterloo</td>\n",
       "      <td>January 2016 to January 2018</td>\n",
       "      <td>2018-05-01</td>\n",
       "      <td>2019-01-01</td>\n",
       "      <td>2016-01-01</td>\n",
       "      <td>2018-01-01</td>\n",
       "      <td>8.0</td>\n",
       "      <td>Master</td>\n",
       "      <td>applied mathematics</td>\n",
       "    </tr>\n",
       "    <tr>\n",
       "      <th>3</th>\n",
       "      <td>2</td>\n",
       "      <td>data+scientist</td>\n",
       "      <td>1</td>\n",
       "      <td>Senior Data Analyst-Customer Interaction Decis...</td>\n",
       "      <td>May 2014 to July 2016</td>\n",
       "      <td>SAS  Fulltime• Translated business objectives ...</td>\n",
       "      <td>en</td>\n",
       "      <td>1</td>\n",
       "      <td>Bachelor in applied mathematics</td>\n",
       "      <td>University of Waterloo</td>\n",
       "      <td>January 2010 to January 2014</td>\n",
       "      <td>2014-05-01</td>\n",
       "      <td>2016-07-01</td>\n",
       "      <td>2010-01-01</td>\n",
       "      <td>2014-01-01</td>\n",
       "      <td>26.0</td>\n",
       "      <td>Bachelor</td>\n",
       "      <td>applied mathematics</td>\n",
       "    </tr>\n",
       "    <tr>\n",
       "      <th>4</th>\n",
       "      <td>4</td>\n",
       "      <td>data+scientist</td>\n",
       "      <td>0</td>\n",
       "      <td>Automation Test Engineer</td>\n",
       "      <td>December 2018 to Present</td>\n",
       "      <td>Responsibilities: ⚫    GM Infotainment system ...</td>\n",
       "      <td>en</td>\n",
       "      <td>0</td>\n",
       "      <td>Master in Electrical and Computer Engineering</td>\n",
       "      <td>University of Ottawa</td>\n",
       "      <td>September 2015 to June 2017</td>\n",
       "      <td>2018-12-01</td>\n",
       "      <td>2019-01-01</td>\n",
       "      <td>2015-09-01</td>\n",
       "      <td>2017-06-01</td>\n",
       "      <td>1.0</td>\n",
       "      <td>Master</td>\n",
       "      <td>Electrical and Computer Engineering</td>\n",
       "    </tr>\n",
       "  </tbody>\n",
       "</table>\n",
       "</div>"
      ],
      "text/plain": [
       "   resume_id        job_type  job_id  \\\n",
       "0          1  data+scientist       0   \n",
       "1          1  data+scientist       1   \n",
       "2          2  data+scientist       0   \n",
       "3          2  data+scientist       1   \n",
       "4          4  data+scientist       0   \n",
       "\n",
       "                                           job_title  \\\n",
       "0                                     Data Scientist   \n",
       "1                    Business Inteligence Consultant   \n",
       "2                     Director of Business Relations   \n",
       "3  Senior Data Analyst-Customer Interaction Decis...   \n",
       "4                           Automation Test Engineer   \n",
       "\n",
       "                    job_duration  \\\n",
       "0       February 2013 to Present   \n",
       "1  January 2006 to February 2013   \n",
       "2            May 2018 to Present   \n",
       "3          May 2014 to July 2016   \n",
       "4       December 2018 to Present   \n",
       "\n",
       "                                     job_description lang  education_id  \\\n",
       "0  2016 ~ Manager, Smart Solution Team in Informa...   en             0   \n",
       "1  2011 Social Media Analysis- Participate in the...   en             1   \n",
       "2  GIMME360  Data Scientist-Business Solution  20...   en             0   \n",
       "3  SAS  Fulltime• Translated business objectives ...   en             1   \n",
       "4  Responsibilities: ⚫    GM Infotainment system ...   en             0   \n",
       "\n",
       "                                            degree                  school  \\\n",
       "0                Master in Business Administration                   KAIST   \n",
       "1  Bachelor of Engineering in Computer Engineering       Konkuk University   \n",
       "2                    Master in applied mathematics  University of Waterloo   \n",
       "3                  Bachelor in applied mathematics  University of Waterloo   \n",
       "4    Master in Electrical and Computer Engineering    University of Ottawa   \n",
       "\n",
       "                     graduation  job_start    job_end school_start school_end  \\\n",
       "0  January 2012 to January 2013 2013-02-01 2019-01-01   2012-01-01 2013-01-01   \n",
       "1   March 1999 to February 2004 2006-01-01 2013-02-01   1999-03-01 2004-02-01   \n",
       "2  January 2016 to January 2018 2018-05-01 2019-01-01   2016-01-01 2018-01-01   \n",
       "3  January 2010 to January 2014 2014-05-01 2016-07-01   2010-01-01 2014-01-01   \n",
       "4   September 2015 to June 2017 2018-12-01 2019-01-01   2015-09-01 2017-06-01   \n",
       "\n",
       "   duration               highest_ed                                field  \n",
       "0      72.0                   Master              Business Administration  \n",
       "1      86.0  Bachelor of Engineering                 Computer Engineering  \n",
       "2       8.0                   Master                  applied mathematics  \n",
       "3      26.0                 Bachelor                  applied mathematics  \n",
       "4       1.0                   Master  Electrical and Computer Engineering  "
      ]
     },
     "execution_count": 27,
     "metadata": {},
     "output_type": "execute_result"
    }
   ],
   "source": [
    "resumes.head()"
   ]
  },
  {
   "cell_type": "code",
   "execution_count": 29,
   "metadata": {},
   "outputs": [],
   "source": [
    "resumes.to_csv('resumes_merged.csv', index=False)"
   ]
  },
  {
   "cell_type": "code",
   "execution_count": null,
   "metadata": {},
   "outputs": [],
   "source": []
  }
 ],
 "metadata": {
  "kernelspec": {
   "display_name": "Python 3",
   "language": "python",
   "name": "python3"
  },
  "language_info": {
   "codemirror_mode": {
    "name": "ipython",
    "version": 3
   },
   "file_extension": ".py",
   "mimetype": "text/x-python",
   "name": "python",
   "nbconvert_exporter": "python",
   "pygments_lexer": "ipython3",
   "version": "3.7.1"
  }
 },
 "nbformat": 4,
 "nbformat_minor": 2
}
